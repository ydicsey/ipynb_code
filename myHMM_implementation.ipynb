{
  "nbformat": 4,
  "nbformat_minor": 0,
  "metadata": {
    "colab": {
      "provenance": [],
      "toc_visible": true,
      "authorship_tag": "ABX9TyPO5e0mlTZ/wIgOAUrpj77R",
      "include_colab_link": true
    },
    "kernelspec": {
      "name": "python3",
      "display_name": "Python 3"
    },
    "language_info": {
      "name": "python"
    }
  },
  "cells": [
    {
      "cell_type": "markdown",
      "metadata": {
        "id": "view-in-github",
        "colab_type": "text"
      },
      "source": [
        "<a href=\"https://colab.research.google.com/github/ydicsey/ipynb_code/blob/main/myHMM_implementation.ipynb\" target=\"_parent\"><img src=\"https://colab.research.google.com/assets/colab-badge.svg\" alt=\"Open In Colab\"/></a>"
      ]
    },
    {
      "cell_type": "markdown",
      "source": [
        "# ENV SetUp"
      ],
      "metadata": {
        "id": "JuP_zxkaGuPj"
      }
    },
    {
      "cell_type": "code",
      "source": [
        "!pip install hmmlearn\n",
        "import pandas as pd\n",
        "import numpy as np"
      ],
      "metadata": {
        "colab": {
          "base_uri": "https://localhost:8080/"
        },
        "id": "iBzWCyt-GWUT",
        "outputId": "e596e217-8e2f-4a94-9df1-f517910e11e5"
      },
      "execution_count": null,
      "outputs": [
        {
          "output_type": "stream",
          "name": "stdout",
          "text": [
            "Looking in indexes: https://pypi.org/simple, https://us-python.pkg.dev/colab-wheels/public/simple/\n",
            "Requirement already satisfied: hmmlearn in /usr/local/lib/python3.8/dist-packages (0.2.8)\n",
            "Requirement already satisfied: scikit-learn>=0.16 in /usr/local/lib/python3.8/dist-packages (from hmmlearn) (1.0.2)\n",
            "Requirement already satisfied: scipy>=0.19 in /usr/local/lib/python3.8/dist-packages (from hmmlearn) (1.7.3)\n",
            "Requirement already satisfied: numpy>=1.10 in /usr/local/lib/python3.8/dist-packages (from hmmlearn) (1.21.6)\n",
            "Requirement already satisfied: joblib>=0.11 in /usr/local/lib/python3.8/dist-packages (from scikit-learn>=0.16->hmmlearn) (1.2.0)\n",
            "Requirement already satisfied: threadpoolctl>=2.0.0 in /usr/local/lib/python3.8/dist-packages (from scikit-learn>=0.16->hmmlearn) (3.1.0)\n"
          ]
        }
      ]
    },
    {
      "cell_type": "markdown",
      "source": [
        "# myHMM implementation"
      ],
      "metadata": {
        "id": "jqzqPee-GyTB"
      }
    },
    {
      "cell_type": "code",
      "source": [
        "# avoid mul to 0\n",
        "\n",
        "def LogAdd(*numbers):\n",
        "    tmp = 0\n",
        "    for n in numbers:\n",
        "        if n == 0:\n",
        "            continue;\n",
        "        tmp += np.log(n)\n",
        "    return (np.exp(tmp))"
      ],
      "metadata": {
        "id": "Z71xSL_sd5Sh"
      },
      "execution_count": null,
      "outputs": []
    },
    {
      "cell_type": "code",
      "execution_count": null,
      "metadata": {
        "id": "hVkVxivnGIcV"
      },
      "outputs": [],
      "source": [
        "import numpy as np\n",
        "\n",
        "class HMM:\n",
        "    \"\"\"\n",
        "    arrtibutes\n",
        "    |               myHMM                   |  hmmlearn\n",
        "    A(n*n) : transition probability matrix  => transmat_\n",
        "    B(n*m) : emission probability matrix    => emissionprob_\n",
        "    pi(1*n): Initial probablity vector      => startprob_\n",
        "    N : number of hidden states             => n_states\n",
        "    M : number of observable states         => n_features\n",
        "    \"\"\"\n",
        "    def __init__(self, A, B, pi):\n",
        "        self.A = np.array(A)\n",
        "        self.B = np.array(B)\n",
        "        self.pi = np.array(pi)\n",
        "        self.N = self.A.shape[0]\n",
        "        self.M = self.B.shape[1]\n",
        "\n",
        "    def Forward(self,T,O):\n",
        "        self.alpha = np.zeros((T,self.N),float)\n",
        "        for i in range(self.N):\n",
        "            self.alpha[0,i] = LogAdd(self.pi[i], self.B[i,O[0]])\n",
        "    \n",
        "        for t in range(T-1):\n",
        "            for j in range(self.N):\n",
        "                sum = 0.0\n",
        "                for i in range(self.N):\n",
        "                    sum += LogAdd(self.alpha[t,i], self.A[i,j])\n",
        "                self.alpha[t+1,j] = LogAdd(sum, self.B[j,O[t+1]])\n",
        "\n",
        "        self.fwp = 0.0\n",
        "        for i in range(self.N):\n",
        "            self.fwp += self.alpha[T-1,i]\n",
        "        return self.fwp\n",
        "\n",
        "    def Backward(self,T,O):\n",
        "        self.beta = np.zeros((T,self.N),float)\n",
        "        for i in range(self.N):\n",
        "            self.beta[T-1,i] = 1.0\n",
        "        for t in range(T-2,-1,-1):\n",
        "            for i in range(self.N):\n",
        "                sum = 0.0\n",
        "                for j in range(self.N):\n",
        "                    sum += LogAdd(self.A[i,j], self.B[j,O[t+1]], self.beta[t+1,j])\n",
        "                self.beta[t,i] = sum\n",
        "                \n",
        "        self.bwp = 0.0\n",
        "        for i in range(self.N):\n",
        "            self.bwp += LogAdd(self.pi[i], self.B[i,O[0]], self.beta[0,i])\n",
        "    \n",
        "    def viterbi(self,O):\n",
        "        T = len(O)\n",
        "        # _init_\n",
        "        delta = np.zeros((T,self.N), float)  \n",
        "        phi = np.zeros((T,self.N), float)  \n",
        "        I = np.zeros(T)\n",
        "        for i in range(self.N):  \n",
        "            delta[0,i] = LogAdd(self.pi[i], self.B[i,O[0]] )\n",
        "            phi[0,i] = 0\n",
        "\n",
        "        for t in range(1,T):  \n",
        "            for i in range(self.N):                                  \n",
        "                delta[t,i] = self.B[i,O[t]]*np.array([delta[t-1,j]*self.A[j,i]  for j in range(self.N)]).max()\n",
        "                phi[t,i] = np.array([delta[t-1,j]*self.A[j,i]  for j in range(self.N)]).argmax()\n",
        "\n",
        "        prob = delta[T-1,:].max()  \n",
        "        I[T-1] = delta[T-1,:].argmax()\n",
        "        # get state path  \n",
        "        for t in range(T-2,-1,-1): \n",
        "            I[t] = phi[t+1,I[t+1]]\n",
        "        return I, prob\n",
        "        \n",
        "    def ComputeGamma(self, T):\n",
        "        self.gamma = np.zeros((T,self.N),float)\n",
        "        for t in range(T):\n",
        "            denominator = 0.0\n",
        "            for j in range(self.N):\n",
        "                self.gamma[t,j] = LogAdd(self.alpha[t,j], self.beta[t,j])\n",
        "                denominator += self.gamma[t,j]\n",
        "            for i in range(self.N):\n",
        "                self.gamma[t,i] = LogAdd(self.gamma[t,i], 1/denominator)\n",
        "\n",
        "    def ComputeXi(self,T,O):\n",
        "        self.xi = np.zeros((T,self.N,self.N))\n",
        "        for t in range(T-1):\n",
        "            sum = 0.0\n",
        "            for i in range(self.N):\n",
        "                for j in range(self.N):\n",
        "                    self.xi[t,i,j] = LogAdd(self.alpha[t,i], self.beta[t+1,j], self.A[i,j], self.B[j,O[t+1]])\n",
        "                    sum += self.xi[t,i,j]\n",
        "            for i in range(self.N):\n",
        "                for j in range(self.N):\n",
        "                    self.xi[t,i,j]  = LogAdd(self.xi[t,i,j] ,1/sum)\n",
        "                    \n",
        "    # Baum-Welch\n",
        "    # input (obsversationS) consist of L sequences\n",
        "    def BaumWelch(self, L, T, O, n_iter = 49):\n",
        "        round = 0\n",
        "        \n",
        "        pi = np.zeros((T), float)\n",
        "        denominatorA = np.zeros((self.N), float)\n",
        "        denominatorB = np.zeros((self.N), float)\n",
        "        numeratorA = np.zeros((self.N,self.N), float)\n",
        "        numeratorB = np.zeros((self.N,self.M), float)\n",
        "        \n",
        "        while True :\n",
        "            for l in range(L):\n",
        "                leng = len(O[l])\n",
        "                self.Forward(leng,O[l])\n",
        "                self.Backward(leng,O[l])\n",
        "                self.ComputeGamma(leng)\n",
        "                self.ComputeXi(leng,O[l])\n",
        "                for i in range(self.N):\n",
        "                    pi[i] += self.gamma[0,i]\n",
        "                    for t in range(leng-1): \n",
        "                        denominatorA[i] += self.gamma[t,i]\n",
        "                        denominatorB[i] += self.gamma[t,i]\n",
        "                    denominatorB[i] += self.gamma[leng-1,i]\n",
        "                    \n",
        "                    for j in range(self.N):\n",
        "                        for t in range(leng-1):\n",
        "                            numeratorA[i,j] += self.xi[t,i,j]\n",
        "                    for k in range(self.M):\n",
        "                        for t in range(leng):\n",
        "                            if O[l][t] == k:\n",
        "                                numeratorB[i,k] += self.gamma[t,i]\n",
        "                            \n",
        "            # M - step\n",
        "            for i in range(self.N):\n",
        "                self.pi[i] = pi[i]/L\n",
        "                for j in range(self.N):\n",
        "                    self.A[i,j] = LogAdd(numeratorA[i,j], 1/denominatorA[i])\n",
        "                    numeratorA[i,j] = 0.0\n",
        "                \n",
        "                for k in range(self.M):\n",
        "                    self.B[i,k] = LogAdd(numeratorB[i,k], 1/denominatorB[i])\n",
        "                    numeratorB[i,k] = 0.0\n",
        "                \n",
        "                pi[i]=denominatorA[i]=denominatorB[i]=0.0;\n",
        "\n",
        "            round += 1\n",
        "            \n",
        "            if round > n_iter :\n",
        "                print (\"iteration \",round)\n",
        "                break\n",
        "    def printhmm(self):\n",
        "        print (\"==================================================\")\n",
        "        print (\"HMM content: n_states(N) =\",self.N,\",n_features(M) =\",self.M)\n",
        "        print (\"\\nhmm.pi\",self.pi)\n",
        "        for i in range(self.N):\n",
        "            if i==0:\n",
        "                print (\"hmm.A \",self.A[i,:],\"\\t hmm.B \",self.B[i,:])\n",
        "            else:\n",
        "                print (\"      \",self.A[i,:],\"\\t       \",self.B[i,:])\n",
        "        print (\"==================================================\")"
      ]
    },
    {
      "cell_type": "markdown",
      "source": [
        "# train set 1"
      ],
      "metadata": {
        "id": "jZVfe8Fw9Nza"
      }
    },
    {
      "cell_type": "code",
      "source": [
        "A = [[0.34, 0.33, 0.33], [0.33, 0.34, 0.33], [0.33, 0.33, 0.34]]\n",
        "B = [[0.34, 0.33, 0.33], [0.33, 0.34, 0.33], [0.33, 0.33, 0.34]]\n",
        "pi = [0.33, 0.33, 0.34]\n",
        "hmm1 = HMM(A,B,pi)\n",
        "\n",
        "O = [   [0,1,1,2,0,1,2,0,0,1,2],\n",
        "        [0,1,2,0,1,2],\n",
        "        [0,1,2,0,0,1,2],\n",
        "        [1,1,0,1,2,0,1],\n",
        "        [1,2,0,0,1,2,2,0,1],\n",
        "        [2,0,2,2,0,1,2,0],\n",
        "        [2,0,1,2,0,1,2,0],\n",
        "        [2,0,1,2,0],\n",
        "        [2,0,1,2,0]\n",
        "    ]\n",
        "L = len(O)\n",
        "\n",
        "# max length of O\n",
        "T = len(O[0])\n",
        "\n",
        "\n",
        "hmm1.BaumWelch(L,T,O, n_iter = 0)\n",
        "hmm1.printhmm()\n",
        "hmm1.BaumWelch(L,T,O)\n",
        "hmm1.printhmm()"
      ],
      "metadata": {
        "colab": {
          "base_uri": "https://localhost:8080/"
        },
        "id": "IkN0hAkyI1nd",
        "outputId": "d1f94745-f557-4369-d474-046404130450"
      },
      "execution_count": null,
      "outputs": [
        {
          "output_type": "stream",
          "name": "stdout",
          "text": [
            "iteration  1\n",
            "==================================================\n",
            "HMM content: n_states(N) = 3 ,n_features(M) = 3\n",
            "\n",
            "hmm.pi [0.33000033 0.32890088 0.34109879]\n",
            "hmm.A  [0.34033101 0.32986784 0.32980115] \t hmm.B  [0.37057828 0.29985772 0.329564  ]\n",
            "       [0.33032122 0.33979725 0.32988153] \t        [0.36039115 0.30945198 0.33015687]\n",
            "       [0.33040545 0.3297981  0.33979645] \t        [0.35994557 0.29980338 0.34025105]\n",
            "==================================================\n",
            "iteration  50\n",
            "==================================================\n",
            "HMM content: n_states(N) = 3 ,n_features(M) = 3\n",
            "\n",
            "hmm.pi [0.33333366 0.22096286 0.44570348]\n",
            "hmm.A  [1.50006490e-01 8.49993451e-01 5.95452798e-08] \t hmm.B  [9.99993473e-01 5.56444494e-06 9.62647769e-07]\n",
            "       [7.24370624e-07 5.68017816e-02 9.43197494e-01] \t        [2.02220620e-07 9.46663454e-01 5.33363435e-02]\n",
            "       [9.47426813e-01 6.83658184e-18 5.25731871e-02] \t        [1.59679766e-07 4.80269032e-02 9.51972937e-01]\n",
            "==================================================\n"
          ]
        }
      ]
    },
    {
      "cell_type": "markdown",
      "source": [
        "### try hmmlearn"
      ],
      "metadata": {
        "id": "CKAJKBbz8-Pm"
      }
    },
    {
      "cell_type": "code",
      "source": [
        "from hmmlearn import hmm\n",
        "\n",
        "x1 = [[0],[1],[1],[2],[0],[1],[2],[0],[0],[1],[2]]\n",
        "x2 = [[0],[1],[2],[0],[1],[2]]\n",
        "x1 = np.concatenate([x1, x2])\n",
        "x2 = [[0],[1],[2],[0],[0],[1],[2]]\n",
        "x1 = np.concatenate([x1, x2])\n",
        "x2 = [[1],[1],[0],[1],[2],[0],[1]]\n",
        "x1 = np.concatenate([x1, x2])\n",
        "x2 = [[1],[2],[0],[0],[1],[2],[2],[0],[1]]\n",
        "x1 = np.concatenate([x1, x2])\n",
        "x2 = [[2],[0],[2],[2],[0],[1],[2],[0]]\n",
        "x1 = np.concatenate([x1, x2])\n",
        "x2 = [[2],[0],[1],[2],[0],[1],[2],[0]]\n",
        "x1 = np.concatenate([x1, x2])\n",
        "x2 = [[2],[0],[1],[2],[0]]\n",
        "x1 = np.concatenate([x1, x2])\n",
        "x2 = [[2],[0],[1],[2],[0]]\n",
        "x1 = np.concatenate([x1, x2])\n",
        "\n",
        "model1 = hmm.CategoricalHMM(n_components=3, n_iter=50, random_state=4)\n",
        "model1.fit(x1, np.array([11,6,7,7,9,8,8,5,5]))\n",
        "pi = model1.startprob_\n",
        "A = model1.transmat_\n",
        "B = model1.emissionprob_\n",
        "print(\"pi\\n\", pi)\n",
        "print(\"\\nA\\n\", A)\n",
        "print(\"\\nB\\n\", B)"
      ],
      "metadata": {
        "colab": {
          "base_uri": "https://localhost:8080/"
        },
        "id": "9fEkHdGNGQxT",
        "outputId": "78403023-b9d1-4927-c602-5abd2c699e5e"
      },
      "execution_count": null,
      "outputs": [
        {
          "output_type": "stream",
          "name": "stdout",
          "text": [
            "pi\n",
            " [0.33333334 0.22095794 0.44570872]\n",
            "\n",
            "A\n",
            " [[1.50002038e-01 8.49997962e-01 3.19682997e-14]\n",
            " [9.83712805e-13 5.67642960e-02 9.43235704e-01]\n",
            " [9.47387535e-01 2.21564093e-48 5.26124650e-02]]\n",
            "\n",
            "B\n",
            " [[9.99998038e-01 1.94951265e-06 1.23548760e-08]\n",
            " [5.35464906e-20 9.46684255e-01 5.33157450e-02]\n",
            " [6.98026863e-11 4.80422977e-02 9.51957702e-01]]\n"
          ]
        }
      ]
    },
    {
      "cell_type": "code",
      "source": [
        "print(f'A difference example implementation and hmmlearn \\n{hmm1.A - (model1.transmat_)}')\n",
        "print(f'\\nB difference example implementation and hmmlearn \\n{hmm1.B - (model1.emissionprob_)}')\n",
        "print(f'\\npi difference example implementation and hmmlearn \\n{hmm1.pi - (model1.startprob_)}')\n",
        "print(f'\\nA example implementation and hmmlearn allclose: {np.allclose(hmm1.A, model1.transmat_, atol=0.1)}')\n",
        "print(f'B example implementation and hmmlearn allclose: {np.allclose(hmm1.B, model1.emissionprob_, atol=0.1)}')"
      ],
      "metadata": {
        "colab": {
          "base_uri": "https://localhost:8080/"
        },
        "id": "JstTywOIGrhX",
        "outputId": "0332f3e9-11ca-4768-8cc9-07dafc30f2f6"
      },
      "execution_count": null,
      "outputs": [
        {
          "output_type": "stream",
          "name": "stdout",
          "text": [
            "A difference example implementation and hmmlearn \n",
            "[[ 4.45176014e-06 -4.51130539e-06  5.95452478e-08]\n",
            " [ 7.24369640e-07  3.74855330e-05 -3.82099026e-05]\n",
            " [ 3.92779402e-05  6.83658184e-18 -3.92779402e-05]]\n",
            "\n",
            "B difference example implementation and hmmlearn \n",
            "[[-4.56522519e-06  3.61493229e-06  9.50292893e-07]\n",
            " [ 2.02220620e-07 -2.08007056e-05  2.05984850e-05]\n",
            " [ 1.59609963e-07 -1.53944113e-05  1.52348013e-05]]\n",
            "\n",
            "pi difference example implementation and hmmlearn \n",
            "[ 3.17152594e-07  4.92413543e-06 -5.24128803e-06]\n",
            "\n",
            "A example implementation and hmmlearn allclose: True\n",
            "B example implementation and hmmlearn allclose: True\n"
          ]
        }
      ]
    },
    {
      "cell_type": "markdown",
      "source": [
        "# train set 2"
      ],
      "metadata": {
        "id": "unxtE35O9H-D"
      }
    },
    {
      "cell_type": "code",
      "source": [
        "A = [[0.34, 0.33, 0.33], [0.33, 0.34, 0.33], [0.33, 0.33, 0.34]]\n",
        "B = [[0.34, 0.33, 0.33], [0.33, 0.34, 0.33], [0.33, 0.33, 0.34]]\n",
        "pi = [0.33, 0.33, 0.34]\n",
        "hmm2 = HMM(A,B,pi)\n",
        "\n",
        "O = [   [1,1,1,2,2,1,2],\n",
        "        [2,2,1,0,1,1],\n",
        "        [0,0,2,2,1,1,1],\n",
        "        [1,1,0,1,1,0,2],\n",
        "        [2,2,0,0,1,1,0,1],\n",
        "        [1,1,1,2,2,1,0,0],\n",
        "        [0,1,1,1,1,0,1,0],\n",
        "        [2,2,2,2,2],\n",
        "        [1,1,0,0,0] ]\n",
        "L = len(O)\n",
        "\n",
        "# max length of O\n",
        "T = len(O[4])\n",
        "\n",
        "\n",
        "hmm2.BaumWelch(L,T,O, n_iter = 0)\n",
        "hmm2.printhmm()\n",
        "hmm2.BaumWelch(L,T,O)\n",
        "hmm2.printhmm()"
      ],
      "metadata": {
        "colab": {
          "base_uri": "https://localhost:8080/"
        },
        "id": "upAgW73o4Hew",
        "outputId": "e532ba31-3ef2-423e-ed17-c555b2e85576"
      },
      "execution_count": null,
      "outputs": [
        {
          "output_type": "stream",
          "name": "stdout",
          "text": [
            "iteration  1\n",
            "==================================================\n",
            "HMM content: n_states(N) = 3 ,n_features(M) = 3\n",
            "\n",
            "hmm.pi [0.32887801 0.33112268 0.33999931]\n",
            "hmm.A  [0.33936141 0.33128305 0.32935554] \t hmm.B  [0.26819314 0.4554281  0.27637876]\n",
            "       [0.32935993 0.34131628 0.32932379] \t        [0.25876655 0.46648973 0.27474372]\n",
            "       [0.32934765 0.33127328 0.33937907] \t        [0.25995845 0.45510582 0.28493573]\n",
            "==================================================\n",
            "iteration  50\n",
            "==================================================\n",
            "HMM content: n_states(N) = 3 ,n_features(M) = 3\n",
            "\n",
            "hmm.pi [0.23525438 0.26316064 0.50158498]\n",
            "hmm.A  [0.39422582 0.35981332 0.24596085] \t hmm.B  [0.32442063 0.49011237 0.185467  ]\n",
            "       [0.37429226 0.36776727 0.25794047] \t        [0.29345147 0.49937269 0.20717584]\n",
            "       [0.27763342 0.29396266 0.42840393] \t        [0.17197341 0.38995208 0.43807451]\n",
            "==================================================\n"
          ]
        }
      ]
    },
    {
      "cell_type": "code",
      "source": [
        "x2 = np.array([[1],[1],[1],[2],[2],[1],[2], \n",
        "       [2],[2],[1],[0],[1],[1], \n",
        "       [0],[0],[2],[2],[1],[1],[1], \n",
        "       [1],[1],[0],[1],[1],[0],[2], \n",
        "       [2],[2],[0],[0],[1],[1],[0],[1], \n",
        "       [1],[1],[1],[2],[2],[1],[0],[0],\n",
        "       [0],[1],[1],[1],[1],[0],[1],[0],\n",
        "       [2],[2],[2],[2],[2],\n",
        "       [1],[1],[0],[0],[0]\n",
        "       ])\n",
        "\n",
        "model2 = hmm.CategoricalHMM(n_components=3, n_iter=50)\n",
        "model2.fit(x2, np.array([7,6,7,7,8,8,8,5,5]))\n",
        "\n",
        "pi = model2.startprob_\n",
        "A = model2.transmat_\n",
        "B = model2.emissionprob_\n",
        "print(\"pi\\n\", pi)\n",
        "print(\"\\nA\\n\", A)\n",
        "print(\"\\nB\\n\", B)\n",
        "\n",
        "print(f'A difference example implementation and hmmlearn \\n{hmm2.A - (model2.transmat_)}')\n",
        "print(f'\\nB difference example implementation and hmmlearn \\n{hmm2.B - (model2.emissionprob_)}')\n",
        "print(f'\\npi difference example implementation and hmmlearn \\n{hmm2.pi - (model2.startprob_)}')\n",
        "print(f'\\nA example implementation and hmmlearn allclose: {np.allclose(hmm2.A, model2.transmat_, atol=0.1)}')\n",
        "print(f'B example implementation and hmmlearn allclose: {np.allclose(hmm2.B, model2.emissionprob_, atol=0.1)}')"
      ],
      "metadata": {
        "colab": {
          "base_uri": "https://localhost:8080/"
        },
        "id": "yjfEPDXA4dpR",
        "outputId": "3a8784c4-adfc-41e7-9356-4975f8161f50"
      },
      "execution_count": null,
      "outputs": [
        {
          "output_type": "stream",
          "name": "stdout",
          "text": [
            "pi\n",
            " [6.66666667e-01 3.33333156e-01 1.77129607e-07]\n",
            "\n",
            "A\n",
            " [[8.68421934e-01 1.31576724e-01 1.34228662e-06]\n",
            " [1.58979450e-24 9.43461301e-04 9.99056539e-01]\n",
            " [7.14007673e-01 2.41880955e-01 4.41113718e-02]]\n",
            "\n",
            "B\n",
            " [[3.63634071e-01 6.36365929e-01 1.66204068e-10]\n",
            " [3.20197382e-05 2.74354449e-05 9.99940545e-01]\n",
            " [1.49107958e-16 1.72828768e-09 9.99999998e-01]]\n",
            "A difference example implementation and hmmlearn \n",
            "[[-0.47419611  0.2282366   0.24595951]\n",
            " [ 0.37429226  0.36682381 -0.74111607]\n",
            " [-0.43637426  0.0520817   0.38429256]]\n",
            "\n",
            "B difference example implementation and hmmlearn \n",
            "[[-0.03921344 -0.14625356  0.185467  ]\n",
            " [ 0.29341945  0.49934525 -0.7927647 ]\n",
            " [ 0.17197341  0.38995208 -0.56192549]]\n",
            "\n",
            "pi difference example implementation and hmmlearn \n",
            "[-0.43141229 -0.07017252  0.5015848 ]\n",
            "\n",
            "A example implementation and hmmlearn allclose: False\n",
            "B example implementation and hmmlearn allclose: False\n"
          ]
        }
      ]
    },
    {
      "cell_type": "markdown",
      "source": [
        "# P1\n",
        "Please specify the model parameters after the first and 50th iterations of Baum-Welch training \n"
      ],
      "metadata": {
        "id": "vZpRyn_N9iKX"
      }
    },
    {
      "cell_type": "markdown",
      "source": [
        "## set 1"
      ],
      "metadata": {
        "id": "_JXYjup89qu5"
      }
    },
    {
      "cell_type": "code",
      "source": [
        "A = [[0.34, 0.33, 0.33], [0.33, 0.34, 0.33], [0.33, 0.33, 0.34]]\n",
        "B = [[0.34, 0.33, 0.33], [0.33, 0.34, 0.33], [0.33, 0.33, 0.34]]\n",
        "pi = [0.33, 0.33, 0.34]\n",
        "hmm1 = HMM(A,B,pi)\n",
        "\n",
        "O = [ [0,1,1,2,0,1,2,0,0,1,2],\n",
        "        [0,1,2,0,1,2],\n",
        "        [0,1,2,0,0,1,2],\n",
        "        [1,1,0,1,2,0,1],\n",
        "        [1,2,0,0,1,2,2,0,1],\n",
        "        [2,0,2,2,0,1,2,0],\n",
        "        [2,0,1,2,0,1,2,0],\n",
        "        [2,0,1,2,0],\n",
        "        [2,0,1,2,0]\n",
        "        ]\n",
        "L = len(O)\n",
        "\n",
        "# max length of O\n",
        "T = len(O[0])\n",
        "\n",
        "hmm1.BaumWelch(L,T,O, n_iter = 0)\n",
        "hmm1.printhmm()\n",
        "hmm1.BaumWelch(L,T,O)\n",
        "hmm1.printhmm()"
      ],
      "metadata": {
        "colab": {
          "base_uri": "https://localhost:8080/"
        },
        "id": "BIcPxkkc9ptV",
        "outputId": "6b474e21-d854-4f25-c43b-f7faa0043c2c"
      },
      "execution_count": null,
      "outputs": [
        {
          "output_type": "stream",
          "name": "stdout",
          "text": [
            "iteration  1\n",
            "==================================================\n",
            "HMM content: n_states(N) = 3 ,n_features(M) = 3\n",
            "\n",
            "hmm.pi [0.33000033 0.32890088 0.34109879]\n",
            "hmm.A  [0.34033101 0.32986784 0.32980115] \t hmm.B  [0.37057828 0.29985772 0.329564  ]\n",
            "       [0.33032122 0.33979725 0.32988153] \t        [0.36039115 0.30945198 0.33015687]\n",
            "       [0.33040545 0.3297981  0.33979645] \t        [0.35994557 0.29980338 0.34025105]\n",
            "==================================================\n",
            "iteration  50\n",
            "==================================================\n",
            "HMM content: n_states(N) = 3 ,n_features(M) = 3\n",
            "\n",
            "hmm.pi [0.33333366 0.22096286 0.44570348]\n",
            "hmm.A  [1.50006490e-01 8.49993451e-01 5.95452798e-08] \t hmm.B  [9.99993473e-01 5.56444494e-06 9.62647769e-07]\n",
            "       [7.24370624e-07 5.68017816e-02 9.43197494e-01] \t        [2.02220620e-07 9.46663454e-01 5.33363435e-02]\n",
            "       [9.47426813e-01 6.83658184e-18 5.25731871e-02] \t        [1.59679766e-07 4.80269032e-02 9.51972937e-01]\n",
            "==================================================\n"
          ]
        }
      ]
    },
    {
      "cell_type": "markdown",
      "source": [
        "## set 2"
      ],
      "metadata": {
        "id": "sE_8zXjr9w1e"
      }
    },
    {
      "cell_type": "code",
      "source": [
        "A = [[0.34, 0.33, 0.33], [0.33, 0.34, 0.33], [0.33, 0.33, 0.34]]\n",
        "B = [[0.34, 0.33, 0.33], [0.33, 0.34, 0.33], [0.33, 0.33, 0.34]]\n",
        "pi = [0.33, 0.33, 0.34]\n",
        "hmm2 = HMM(A,B,pi)\n",
        "\n",
        "O = [   [1,1,1,2,2,1,2],\n",
        "        [2,2,1,0,1,1],\n",
        "        [0,0,2,2,1,1,1],\n",
        "        [1,1,0,1,1,0,2],\n",
        "        [2,2,0,0,1,1,0,1],\n",
        "        [1,1,1,2,2,1,0,0],\n",
        "        [0,1,1,1,1,0,1,0],\n",
        "        [2,2,2,2,2],\n",
        "        [1,1,0,0,0] ]\n",
        "L = len(O)\n",
        "\n",
        "# max length of O\n",
        "T = len(O[4])\n",
        "\n",
        "hmm2.BaumWelch(L,T,O, n_iter = 0)\n",
        "hmm2.printhmm()\n",
        "hmm2.BaumWelch(L,T,O)\n",
        "hmm2.printhmm()"
      ],
      "metadata": {
        "colab": {
          "base_uri": "https://localhost:8080/"
        },
        "id": "YJf_EIzg92ev",
        "outputId": "a655b2c6-4423-40c4-ed9e-01ff02f40681"
      },
      "execution_count": null,
      "outputs": [
        {
          "output_type": "stream",
          "name": "stdout",
          "text": [
            "iteration  1\n",
            "==================================================\n",
            "HMM content: n_states(N) = 3 ,n_features(M) = 3\n",
            "\n",
            "hmm.pi [0.32887801 0.33112268 0.33999931]\n",
            "hmm.A  [0.33936141 0.33128305 0.32935554] \t hmm.B  [0.26819314 0.4554281  0.27637876]\n",
            "       [0.32935993 0.34131628 0.32932379] \t        [0.25876655 0.46648973 0.27474372]\n",
            "       [0.32934765 0.33127328 0.33937907] \t        [0.25995845 0.45510582 0.28493573]\n",
            "==================================================\n",
            "iteration  50\n",
            "==================================================\n",
            "HMM content: n_states(N) = 3 ,n_features(M) = 3\n",
            "\n",
            "hmm.pi [0.23525438 0.26316064 0.50158498]\n",
            "hmm.A  [0.39422582 0.35981332 0.24596085] \t hmm.B  [0.32442063 0.49011237 0.185467  ]\n",
            "       [0.37429226 0.36776727 0.25794047] \t        [0.29345147 0.49937269 0.20717584]\n",
            "       [0.27763342 0.29396266 0.42840393] \t        [0.17197341 0.38995208 0.43807451]\n",
            "==================================================\n"
          ]
        }
      ]
    },
    {
      "cell_type": "markdown",
      "source": [
        "# P2 \n",
        "Please show the recognition results by using the above training sequences as the testing data (The so-called inside testing). "
      ],
      "metadata": {
        "id": "aNHCNFqK-AyC"
      }
    },
    {
      "cell_type": "code",
      "source": [
        "import warnings\n",
        "warnings.filterwarnings(\"ignore\")"
      ],
      "metadata": {
        "id": "fNfATpMGDzmZ"
      },
      "execution_count": null,
      "outputs": []
    },
    {
      "cell_type": "code",
      "source": [
        "set1 = [[0,1,1,2,0,1,2,0,0,1,2],\n",
        "        [0,1,2,0,1,2],\n",
        "        [0,1,2,0,0,1,2],\n",
        "        [1,1,0,1,2,0,1],\n",
        "        [1,2,0,0,1,2,2,0,1],\n",
        "        [2,0,2,2,0,1,2,0],\n",
        "        [2,0,1,2,0,1,2,0],\n",
        "        [2,0,1,2,0],\n",
        "        [2,0,1,2,0]\n",
        "        ]\n",
        "set2 = [[1,1,1,2,2,1,2],\n",
        "        [2,2,1,0,1,1],\n",
        "        [0,0,2,2,1,1,1],\n",
        "        [1,1,0,1,1,0,2],\n",
        "        [2,2,0,0,1,1,0,1],\n",
        "        [1,1,1,2,2,1,0,0],\n",
        "        [0,1,1,1,1,0,1,0],\n",
        "        [2,2,2,2,2],\n",
        "        [1,1,0,0,0] ]\n",
        "\n",
        "for i in range(len(set1)):\n",
        "    leng = len(set1[i])\n",
        "    print(\"set1[\", i+1, \"]\", '{:>20}'.format(\"belongs to \" + [\"model 1\",\"model 2\"][hmm1.Forward(leng,set1[i]) < hmm2.Forward(leng,set1[i])]))\n",
        "\n",
        "print()\n",
        "for i in range(len(set2)):\n",
        "    leng = len(set2[i])\n",
        "    print(\"set2[\", i+1, \"]\", '{:>20}'.format(\"belongs to \" + [\"model 1\",\"model 2\"][hmm1.Forward(leng,set2[i]) < hmm2.Forward(leng,set2[i])]))"
      ],
      "metadata": {
        "colab": {
          "base_uri": "https://localhost:8080/"
        },
        "id": "BbULqCQt-JEP",
        "outputId": "ba9fc756-aebf-4d95-d6ff-6f06ea634d2e"
      },
      "execution_count": null,
      "outputs": [
        {
          "output_type": "stream",
          "name": "stdout",
          "text": [
            "set1[ 1 ]   belongs to model 1\n",
            "set1[ 2 ]   belongs to model 1\n",
            "set1[ 3 ]   belongs to model 1\n",
            "set1[ 4 ]   belongs to model 1\n",
            "set1[ 5 ]   belongs to model 1\n",
            "set1[ 6 ]   belongs to model 1\n",
            "set1[ 7 ]   belongs to model 1\n",
            "set1[ 8 ]   belongs to model 1\n",
            "set1[ 9 ]   belongs to model 1\n",
            "\n",
            "set2[ 1 ]   belongs to model 2\n",
            "set2[ 2 ]   belongs to model 2\n",
            "set2[ 3 ]   belongs to model 2\n",
            "set2[ 4 ]   belongs to model 2\n",
            "set2[ 5 ]   belongs to model 2\n",
            "set2[ 6 ]   belongs to model 2\n",
            "set2[ 7 ]   belongs to model 2\n",
            "set2[ 8 ]   belongs to model 2\n",
            "set2[ 9 ]   belongs to model 2\n"
          ]
        }
      ]
    },
    {
      "cell_type": "markdown",
      "source": [
        "# P3\n",
        "Which class do the following testing sequences belong to?\n",
        "* ABCABCCAB\n",
        "* AABABCCCCBBB"
      ],
      "metadata": {
        "id": "WTKfd7GLDLp-"
      }
    },
    {
      "cell_type": "code",
      "source": [
        "set3 = [[0,1,2,0,1,2,2,0,1]]\n",
        "leng = len(set3[0])\n",
        "print(\"set: ABCABCCAB\", '{:>20}'.format(\"belongs to \" + [\"model 1\",\"model 2\"][hmm1.Forward(leng,set3[0]) < hmm2.Forward(leng,set3[0])]))\n",
        "print()\n",
        "set3 = [[1,1,2,1,2,0,0,0,0,1,1,1]]\n",
        "leng = len(set3[0])\n",
        "print(\"set: AABABCCCCBBB\",  '{:>20}'.format(\"belongs to \" + [\"model 1\",\"model 2\"][hmm1.Forward(leng,set3[0]) < hmm2.Forward(leng,set3[0])]))"
      ],
      "metadata": {
        "colab": {
          "base_uri": "https://localhost:8080/"
        },
        "id": "YlueF8WWDSBU",
        "outputId": "17aa4ce4-8e26-4099-cc24-1a193bd1ae71"
      },
      "execution_count": null,
      "outputs": [
        {
          "output_type": "stream",
          "name": "stdout",
          "text": [
            "set: ABCABCCAB   belongs to model 1\n",
            "\n",
            "set: AABABCCCCBBB   belongs to model 2\n"
          ]
        }
      ]
    },
    {
      "cell_type": "markdown",
      "source": [
        "# P4\n",
        "What are the results if Observable Markov Models were instead used in P1, P2 and P3? "
      ],
      "metadata": {
        "id": "fLUIy1VpEKxR"
      }
    },
    {
      "cell_type": "markdown",
      "source": [
        "## P4-P1 set1"
      ],
      "metadata": {
        "id": "vHI2C_FfEkIM"
      }
    },
    {
      "cell_type": "code",
      "source": [
        "A = [[0.34, 0.33, 0.33], [0.33, 0.34, 0.33], [0.33, 0.33, 0.34]]\n",
        "B = [[1., 0., 0.], [0., 1., 0.], [0., 0., 1.]]\n",
        "pi = [0.33, 0.33, 0.34]\n",
        "hmm1 = HMM(A,B,pi)\n",
        "\n",
        "L = len(set1)\n",
        "\n",
        "# max length of O\n",
        "T = len(set1[0])\n",
        "\n",
        "hmm1.BaumWelch(L,T,set1, n_iter = 0)\n",
        "hmm1.printhmm()\n",
        "hmm1.BaumWelch(L,T,set1)\n",
        "hmm1.printhmm()"
      ],
      "metadata": {
        "colab": {
          "base_uri": "https://localhost:8080/"
        },
        "id": "f7gkXTKqEOnt",
        "outputId": "6b1cd203-4bfa-44fa-f507-268a13ba604e"
      },
      "execution_count": null,
      "outputs": [
        {
          "output_type": "stream",
          "name": "stdout",
          "text": [
            "iteration  1\n",
            "==================================================\n",
            "HMM content: n_states(N) = 3 ,n_features(M) = 3\n",
            "\n",
            "hmm.pi [0.33 0.33 0.34]\n",
            "hmm.A  [0.34 0.33 0.33] \t hmm.B  [0.36367666 0.3031387  0.33318464]\n",
            "       [0.33 0.34 0.33] \t        [0.36367666 0.3031387  0.33318464]\n",
            "       [0.33 0.33 0.34] \t        [0.36355611 0.30281441 0.33362949]\n",
            "==================================================\n",
            "iteration  50\n",
            "==================================================\n",
            "HMM content: n_states(N) = 3 ,n_features(M) = 3\n",
            "\n",
            "hmm.pi [0.18880353 0.18880353 0.62239293]\n",
            "hmm.A  [0.33351497 0.32370571 0.34277932] \t hmm.B  [0.3920173  0.36332608 0.24465662]\n",
            "       [0.32370571 0.33351497 0.34277932] \t        [0.3920173  0.36332608 0.24465662]\n",
            "       [0.39248806 0.39248806 0.21502389] \t        [0.30916412 0.18730313 0.50353275]\n",
            "==================================================\n"
          ]
        }
      ]
    },
    {
      "cell_type": "markdown",
      "source": [
        "## P4-P1 set2"
      ],
      "metadata": {
        "id": "7DL6tPjIEmuK"
      }
    },
    {
      "cell_type": "code",
      "source": [
        "A = [[0.34, 0.33, 0.33], [0.33, 0.34, 0.33], [0.33, 0.33, 0.34]]\n",
        "B = [[1., 0., 0.], [0., 1., 0.], [0., 0., 1.]]\n",
        "pi = [0.33, 0.33, 0.34]\n",
        "hmm2 = HMM(A,B,pi)\n",
        "\n",
        "L = len(set2)\n",
        "\n",
        "# max length of O\n",
        "T = 8\n",
        "\n",
        "hmm2.BaumWelch(L,T,set2, n_iter = 0)\n",
        "hmm2.printhmm()\n",
        "hmm2.BaumWelch(L,T,set2)\n",
        "hmm2.printhmm()"
      ],
      "metadata": {
        "colab": {
          "base_uri": "https://localhost:8080/"
        },
        "id": "-OunRPlAEprn",
        "outputId": "473ea154-25ec-4750-9d00-4737e313c11a"
      },
      "execution_count": null,
      "outputs": [
        {
          "output_type": "stream",
          "name": "stdout",
          "text": [
            "iteration  1\n",
            "==================================================\n",
            "HMM content: n_states(N) = 3 ,n_features(M) = 3\n",
            "\n",
            "hmm.pi [0.33 0.33 0.34]\n",
            "hmm.A  [0.34 0.33 0.33] \t hmm.B  [0.26235652 0.4590365  0.27860698]\n",
            "       [0.33 0.34 0.33] \t        [0.26235652 0.4590365  0.27860698]\n",
            "       [0.33 0.33 0.34] \t        [0.26217276 0.45897636 0.27885088]\n",
            "==================================================\n",
            "iteration  50\n",
            "==================================================\n",
            "HMM content: n_states(N) = 3 ,n_features(M) = 3\n",
            "\n",
            "hmm.pi [0.30598325 0.30598325 0.3880335 ]\n",
            "hmm.A  [0.34595168 0.33577663 0.31827169] \t hmm.B  [0.27297035 0.46370099 0.26332866]\n",
            "       [0.33577663 0.34595168 0.31827169] \t        [0.27297035 0.46370099 0.26332866]\n",
            "       [0.33026182 0.33026182 0.33947636] \t        [0.24106953 0.44970204 0.30922843]\n",
            "==================================================\n"
          ]
        }
      ]
    },
    {
      "cell_type": "markdown",
      "source": [
        "## P4-P2 "
      ],
      "metadata": {
        "id": "Spu0kbOIE-b0"
      }
    },
    {
      "cell_type": "code",
      "source": [
        "for i in range(len(set1)):\n",
        "    leng = len(set1[i])\n",
        "    print(\"set1[\", i+1, \"]\", '{:>20}'.format(\"belongs to \" + [\"model 1\",\"model 2\"][hmm1.Forward(leng,set1[i]) < hmm2.Forward(leng,set1[i])]))\n",
        "\n",
        "print()\n",
        "for i in range(len(set2)):\n",
        "    leng = len(set2[i])\n",
        "    print(\"set2[\", i+1, \"]\", '{:>20}'.format(\"belongs to \" + [\"model 1\",\"model 2\"][hmm1.Forward(leng,set2[i]) < hmm2.Forward(leng,set2[i])]))"
      ],
      "metadata": {
        "colab": {
          "base_uri": "https://localhost:8080/"
        },
        "id": "cOffX4yvJTZP",
        "outputId": "b8f4f21c-39a2-4fd7-8c94-68ac8469a8d2"
      },
      "execution_count": null,
      "outputs": [
        {
          "output_type": "stream",
          "name": "stdout",
          "text": [
            "set1[ 1 ]   belongs to model 1\n",
            "set1[ 2 ]   belongs to model 1\n",
            "set1[ 3 ]   belongs to model 1\n",
            "set1[ 4 ]   belongs to model 2\n",
            "set1[ 5 ]   belongs to model 1\n",
            "set1[ 6 ]   belongs to model 1\n",
            "set1[ 7 ]   belongs to model 1\n",
            "set1[ 8 ]   belongs to model 1\n",
            "set1[ 9 ]   belongs to model 1\n",
            "\n",
            "set2[ 1 ]   belongs to model 2\n",
            "set2[ 2 ]   belongs to model 2\n",
            "set2[ 3 ]   belongs to model 2\n",
            "set2[ 4 ]   belongs to model 2\n",
            "set2[ 5 ]   belongs to model 1\n",
            "set2[ 6 ]   belongs to model 2\n",
            "set2[ 7 ]   belongs to model 2\n",
            "set2[ 8 ]   belongs to model 1\n",
            "set2[ 9 ]   belongs to model 1\n"
          ]
        }
      ]
    },
    {
      "cell_type": "markdown",
      "source": [
        "## P4-P3"
      ],
      "metadata": {
        "id": "VL8gN2cGJ1k4"
      }
    },
    {
      "cell_type": "code",
      "source": [
        "set3 = [[0,1,2,0,1,2,2,0,1]]\n",
        "leng = len(set3[0])\n",
        "print(\"set: ABCABCCAB\", '{:>20}'.format(\"belongs to \" + [\"model 1\",\"model 2\"][hmm1.Forward(leng,set3[0]) < hmm2.Forward(leng,set3[0])]))\n",
        "print()\n",
        "set3 = [[1,1,2,1,2,0,0,0,0,1,1,1]]\n",
        "leng = len(set3[0])\n",
        "print(\"set: AABABCCCCBBB\",  '{:>20}'.format(\"belongs to \" + [\"model 1\",\"model 2\"][hmm1.Forward(leng,set3[0]) < hmm2.Forward(leng,set3[0])]))"
      ],
      "metadata": {
        "colab": {
          "base_uri": "https://localhost:8080/"
        },
        "id": "5hfnuVmdJuUD",
        "outputId": "42da92e1-bf2d-4118-c128-c5f8f779e54e"
      },
      "execution_count": null,
      "outputs": [
        {
          "output_type": "stream",
          "name": "stdout",
          "text": [
            "set: ABCABCCAB   belongs to model 1\n",
            "\n",
            "set: AABABCCCCBBB   belongs to model 2\n"
          ]
        }
      ]
    }
  ]
}